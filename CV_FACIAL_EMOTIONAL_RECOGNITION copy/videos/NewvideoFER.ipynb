{
 "cells": [
  {
   "cell_type": "code",
   "execution_count": 16,
   "metadata": {},
   "outputs": [],
   "source": [
    "# from fer import FER\n",
    "# from fer import Video\n",
    "# import pandas as pd\n",
    "# import matplotlib.pyplot as plt\n",
    "# video_file: str = \"JPowell.mp4\"\n",
    "\n",
    "# face_detector: FER = FER(mtcnn=True)\n",
    "\n",
    "# # preprocess video file\n",
    "# processed_video = Video(video_file=video_file)\n",
    "\n",
    "# processing_data = processed_video.analyze(face_detector,display=True)\n",
    "\n",
    "# df= pd.DataFrame(processing_data)"
   ]
  },
  {
   "cell_type": "code",
   "execution_count": 17,
   "metadata": {},
   "outputs": [],
   "source": [
    "# df= pd.DataFrame(processing_data)\n",
    "\n",
    "# df.to_excel('FER_df.xlsx',index=False)"
   ]
  },
  {
   "cell_type": "code",
   "execution_count": 18,
   "metadata": {},
   "outputs": [],
   "source": [
    "# # use the data  to decide the our execution/approach\n",
    "# import numpy as np\n",
    "# df.dropna(axis=1,inplace=True)\n",
    "# df['minutes']=(np.arange(len(df))//60)+1\n",
    "# df_grouped_by_minute = df.groupby('minutes').sum()\n",
    "# df_grouped_by_minute.head()\n"
   ]
  },
  {
   "cell_type": "code",
   "execution_count": 19,
   "metadata": {},
   "outputs": [],
   "source": [
    "# df['positive']=df['happy0']+df['surprise0']\n",
    "# df['negative']=df['angry0']+df['disgust0']+df['fear0']+df['sad0']\n",
    "\n",
    "# # Correct the dictionary for renaming\n",
    "# neutral_dict = {'neutral0': 'neutral'}\n",
    "\n",
    "# # # Use the rename method with the columns parameter\n",
    "# # df.rename(columns=neutral_dict, inplace=True)\n",
    "# df_grouped_by_minute=df_grouped_by_minute.reset_index(drop=True)"
   ]
  },
  {
   "cell_type": "code",
   "execution_count": 20,
   "metadata": {},
   "outputs": [],
   "source": [
    "# df[(df['negative']>=0.4) & (df['negative']>df['neutral'])].reset_index(drop=True)"
   ]
  },
  {
   "cell_type": "code",
   "execution_count": 21,
   "metadata": {},
   "outputs": [
    {
     "data": {
      "text/html": [
       "<div>\n",
       "<style scoped>\n",
       "    .dataframe tbody tr th:only-of-type {\n",
       "        vertical-align: middle;\n",
       "    }\n",
       "\n",
       "    .dataframe tbody tr th {\n",
       "        vertical-align: top;\n",
       "    }\n",
       "\n",
       "    .dataframe thead th {\n",
       "        text-align: right;\n",
       "    }\n",
       "</style>\n",
       "<table border=\"1\" class=\"dataframe\">\n",
       "  <thead>\n",
       "    <tr style=\"text-align: right;\">\n",
       "      <th></th>\n",
       "      <th>angry</th>\n",
       "      <th>disgust</th>\n",
       "      <th>fear</th>\n",
       "      <th>happy</th>\n",
       "      <th>sad</th>\n",
       "      <th>surprise</th>\n",
       "      <th>neutral</th>\n",
       "    </tr>\n",
       "  </thead>\n",
       "  <tbody>\n",
       "    <tr>\n",
       "      <th>0</th>\n",
       "      <td>0.08</td>\n",
       "      <td>0.00</td>\n",
       "      <td>0.03</td>\n",
       "      <td>0.21</td>\n",
       "      <td>0.02</td>\n",
       "      <td>0.02</td>\n",
       "      <td>0.65</td>\n",
       "    </tr>\n",
       "    <tr>\n",
       "      <th>1</th>\n",
       "      <td>0.53</td>\n",
       "      <td>0.00</td>\n",
       "      <td>0.31</td>\n",
       "      <td>0.04</td>\n",
       "      <td>0.03</td>\n",
       "      <td>0.06</td>\n",
       "      <td>0.03</td>\n",
       "    </tr>\n",
       "    <tr>\n",
       "      <th>2</th>\n",
       "      <td>0.15</td>\n",
       "      <td>0.00</td>\n",
       "      <td>0.07</td>\n",
       "      <td>0.19</td>\n",
       "      <td>0.04</td>\n",
       "      <td>0.03</td>\n",
       "      <td>0.51</td>\n",
       "    </tr>\n",
       "    <tr>\n",
       "      <th>3</th>\n",
       "      <td>0.46</td>\n",
       "      <td>0.01</td>\n",
       "      <td>0.32</td>\n",
       "      <td>0.06</td>\n",
       "      <td>0.06</td>\n",
       "      <td>0.06</td>\n",
       "      <td>0.03</td>\n",
       "    </tr>\n",
       "    <tr>\n",
       "      <th>4</th>\n",
       "      <td>0.08</td>\n",
       "      <td>0.00</td>\n",
       "      <td>0.05</td>\n",
       "      <td>0.02</td>\n",
       "      <td>0.07</td>\n",
       "      <td>0.02</td>\n",
       "      <td>0.75</td>\n",
       "    </tr>\n",
       "  </tbody>\n",
       "</table>\n",
       "</div>"
      ],
      "text/plain": [
       "   angry  disgust  fear  happy   sad  surprise  neutral\n",
       "0   0.08     0.00  0.03   0.21  0.02      0.02     0.65\n",
       "1   0.53     0.00  0.31   0.04  0.03      0.06     0.03\n",
       "2   0.15     0.00  0.07   0.19  0.04      0.03     0.51\n",
       "3   0.46     0.01  0.32   0.06  0.06      0.06     0.03\n",
       "4   0.08     0.00  0.05   0.02  0.07      0.02     0.75"
      ]
     },
     "execution_count": 21,
     "metadata": {},
     "output_type": "execute_result"
    }
   ],
   "source": [
    "# Read the Dec Data for 2023\n",
    "import pandas as pd\n",
    "df= pd.read_csv('/Users/harithadiwidjaya/Desktop/FACIAL_EMOTIONAL_RECOGNITION/Dec_Data.csv',header=0)\n",
    "df.head()"
   ]
  },
  {
   "cell_type": "code",
   "execution_count": 22,
   "metadata": {},
   "outputs": [
    {
     "data": {
      "text/html": [
       "<div>\n",
       "<style scoped>\n",
       "    .dataframe tbody tr th:only-of-type {\n",
       "        vertical-align: middle;\n",
       "    }\n",
       "\n",
       "    .dataframe tbody tr th {\n",
       "        vertical-align: top;\n",
       "    }\n",
       "\n",
       "    .dataframe thead th {\n",
       "        text-align: right;\n",
       "    }\n",
       "</style>\n",
       "<table border=\"1\" class=\"dataframe\">\n",
       "  <thead>\n",
       "    <tr style=\"text-align: right;\">\n",
       "      <th></th>\n",
       "      <th>angry</th>\n",
       "      <th>disgust</th>\n",
       "      <th>fear</th>\n",
       "      <th>happy</th>\n",
       "      <th>sad</th>\n",
       "      <th>surprise</th>\n",
       "      <th>neutral</th>\n",
       "    </tr>\n",
       "    <tr>\n",
       "      <th>minutes</th>\n",
       "      <th></th>\n",
       "      <th></th>\n",
       "      <th></th>\n",
       "      <th></th>\n",
       "      <th></th>\n",
       "      <th></th>\n",
       "      <th></th>\n",
       "    </tr>\n",
       "  </thead>\n",
       "  <tbody>\n",
       "    <tr>\n",
       "      <th>1</th>\n",
       "      <td>380.52</td>\n",
       "      <td>0.17</td>\n",
       "      <td>142.20</td>\n",
       "      <td>157.48</td>\n",
       "      <td>215.58</td>\n",
       "      <td>37.52</td>\n",
       "      <td>849.13</td>\n",
       "    </tr>\n",
       "    <tr>\n",
       "      <th>2</th>\n",
       "      <td>411.51</td>\n",
       "      <td>0.31</td>\n",
       "      <td>114.16</td>\n",
       "      <td>155.64</td>\n",
       "      <td>130.10</td>\n",
       "      <td>28.78</td>\n",
       "      <td>942.20</td>\n",
       "    </tr>\n",
       "    <tr>\n",
       "      <th>3</th>\n",
       "      <td>385.07</td>\n",
       "      <td>0.37</td>\n",
       "      <td>117.48</td>\n",
       "      <td>137.26</td>\n",
       "      <td>109.64</td>\n",
       "      <td>33.75</td>\n",
       "      <td>999.06</td>\n",
       "    </tr>\n",
       "    <tr>\n",
       "      <th>4</th>\n",
       "      <td>329.46</td>\n",
       "      <td>0.02</td>\n",
       "      <td>45.71</td>\n",
       "      <td>136.77</td>\n",
       "      <td>102.29</td>\n",
       "      <td>24.97</td>\n",
       "      <td>1143.37</td>\n",
       "    </tr>\n",
       "    <tr>\n",
       "      <th>5</th>\n",
       "      <td>282.01</td>\n",
       "      <td>1.75</td>\n",
       "      <td>56.79</td>\n",
       "      <td>153.40</td>\n",
       "      <td>89.05</td>\n",
       "      <td>29.12</td>\n",
       "      <td>1170.46</td>\n",
       "    </tr>\n",
       "  </tbody>\n",
       "</table>\n",
       "</div>"
      ],
      "text/plain": [
       "          angry  disgust    fear   happy     sad  surprise  neutral\n",
       "minutes                                                            \n",
       "1        380.52     0.17  142.20  157.48  215.58     37.52   849.13\n",
       "2        411.51     0.31  114.16  155.64  130.10     28.78   942.20\n",
       "3        385.07     0.37  117.48  137.26  109.64     33.75   999.06\n",
       "4        329.46     0.02   45.71  136.77  102.29     24.97  1143.37\n",
       "5        282.01     1.75   56.79  153.40   89.05     29.12  1170.46"
      ]
     },
     "execution_count": 22,
     "metadata": {},
     "output_type": "execute_result"
    }
   ],
   "source": [
    "#group the df by minutes\n",
    "import numpy as np\n",
    "\n",
    "df['minutes']=(np.arange(len(df))//1784)+1\n",
    "df_grouped_by_minute = df.groupby('minutes').sum()\n",
    "df_grouped_by_minute.head()"
   ]
  },
  {
   "cell_type": "code",
   "execution_count": 23,
   "metadata": {},
   "outputs": [],
   "source": [
    "df_grouped_by_minute.reset_index(drop=True,inplace=True)"
   ]
  },
  {
   "cell_type": "code",
   "execution_count": 24,
   "metadata": {},
   "outputs": [],
   "source": [
    "import requests\n",
    "import pandas as pd\n",
    "API_KEY = 'JDRUHFYE77G75DS7'\n",
    "symbol = 'SPY'\n",
    "interval = '1min'\n",
    "\n",
    "# url = f'https://www.alphavantage.co/query?function=TIME_SERIES_INTRADAY&symbol={symbol}&interval={interval}&apikey={API_KEY}'\n",
    "url = f\"https://www.alphavantage.co/query?function=TIME_SERIES_INTRADAY&symbol={symbol}&interval={interval}&extended_hours=false&month=2023-12&outputsize=full&apikey={API_KEY}\"\n",
    "r = requests.get(url)\n",
    "data = r.json()\n",
    "\n",
    "time_series_key = next(key for key in data.keys() if \"Time Series\" in key)  # Find the correct key for the time series data\n",
    "\n",
    "finance_data = pd.DataFrame(data[time_series_key]).T\n",
    "\n",
    "finance_data.index = pd.to_datetime(finance_data.index)\n",
    "for column in finance_data.columns:\n",
    "    finance_data[column] = pd.to_numeric(finance_data[column], errors='coerce')\n",
    "\n",
    "column_mapping = {\n",
    "    '1. open': 'Open',\n",
    "    '2. high': 'High',\n",
    "    '3. low': 'Low',\n",
    "    '4. close': 'Close',\n",
    "    '5. volume': 'Volume'\n",
    "}\n",
    "finance_data.rename(columns=column_mapping, inplace=True)\n",
    "finance_data.sort_index(inplace=True)"
   ]
  },
  {
   "cell_type": "code",
   "execution_count": 25,
   "metadata": {},
   "outputs": [
    {
     "data": {
      "text/html": [
       "<div>\n",
       "<style scoped>\n",
       "    .dataframe tbody tr th:only-of-type {\n",
       "        vertical-align: middle;\n",
       "    }\n",
       "\n",
       "    .dataframe tbody tr th {\n",
       "        vertical-align: top;\n",
       "    }\n",
       "\n",
       "    .dataframe thead th {\n",
       "        text-align: right;\n",
       "    }\n",
       "</style>\n",
       "<table border=\"1\" class=\"dataframe\">\n",
       "  <thead>\n",
       "    <tr style=\"text-align: right;\">\n",
       "      <th></th>\n",
       "      <th>Open</th>\n",
       "      <th>High</th>\n",
       "      <th>Low</th>\n",
       "      <th>Close</th>\n",
       "      <th>Volume</th>\n",
       "      <th>Close_diff</th>\n",
       "      <th>change_volume</th>\n",
       "    </tr>\n",
       "  </thead>\n",
       "  <tbody>\n",
       "    <tr>\n",
       "      <th>2023-12-01 09:30:00</th>\n",
       "      <td>453.934</td>\n",
       "      <td>453.974</td>\n",
       "      <td>453.719</td>\n",
       "      <td>453.740</td>\n",
       "      <td>416475</td>\n",
       "      <td>NaN</td>\n",
       "      <td>NaN</td>\n",
       "    </tr>\n",
       "    <tr>\n",
       "      <th>2023-12-01 09:31:00</th>\n",
       "      <td>453.744</td>\n",
       "      <td>453.864</td>\n",
       "      <td>453.714</td>\n",
       "      <td>453.715</td>\n",
       "      <td>150021</td>\n",
       "      <td>-0.025</td>\n",
       "      <td>-266454.0</td>\n",
       "    </tr>\n",
       "    <tr>\n",
       "      <th>2023-12-01 09:32:00</th>\n",
       "      <td>453.725</td>\n",
       "      <td>453.735</td>\n",
       "      <td>453.387</td>\n",
       "      <td>453.495</td>\n",
       "      <td>213584</td>\n",
       "      <td>-0.220</td>\n",
       "      <td>63563.0</td>\n",
       "    </tr>\n",
       "    <tr>\n",
       "      <th>2023-12-01 09:33:00</th>\n",
       "      <td>453.505</td>\n",
       "      <td>453.685</td>\n",
       "      <td>453.345</td>\n",
       "      <td>453.545</td>\n",
       "      <td>567684</td>\n",
       "      <td>0.050</td>\n",
       "      <td>354100.0</td>\n",
       "    </tr>\n",
       "    <tr>\n",
       "      <th>2023-12-01 09:34:00</th>\n",
       "      <td>453.540</td>\n",
       "      <td>453.675</td>\n",
       "      <td>453.465</td>\n",
       "      <td>453.635</td>\n",
       "      <td>249273</td>\n",
       "      <td>0.090</td>\n",
       "      <td>-318411.0</td>\n",
       "    </tr>\n",
       "    <tr>\n",
       "      <th>...</th>\n",
       "      <td>...</td>\n",
       "      <td>...</td>\n",
       "      <td>...</td>\n",
       "      <td>...</td>\n",
       "      <td>...</td>\n",
       "      <td>...</td>\n",
       "      <td>...</td>\n",
       "    </tr>\n",
       "    <tr>\n",
       "      <th>2023-12-29 15:55:00</th>\n",
       "      <td>474.750</td>\n",
       "      <td>474.935</td>\n",
       "      <td>474.490</td>\n",
       "      <td>474.919</td>\n",
       "      <td>962457</td>\n",
       "      <td>0.169</td>\n",
       "      <td>-259560.0</td>\n",
       "    </tr>\n",
       "    <tr>\n",
       "      <th>2023-12-29 15:56:00</th>\n",
       "      <td>474.910</td>\n",
       "      <td>475.280</td>\n",
       "      <td>474.890</td>\n",
       "      <td>475.120</td>\n",
       "      <td>898500</td>\n",
       "      <td>0.201</td>\n",
       "      <td>-63957.0</td>\n",
       "    </tr>\n",
       "    <tr>\n",
       "      <th>2023-12-29 15:57:00</th>\n",
       "      <td>475.120</td>\n",
       "      <td>475.160</td>\n",
       "      <td>474.950</td>\n",
       "      <td>474.980</td>\n",
       "      <td>1624392</td>\n",
       "      <td>-0.140</td>\n",
       "      <td>725892.0</td>\n",
       "    </tr>\n",
       "    <tr>\n",
       "      <th>2023-12-29 15:58:00</th>\n",
       "      <td>474.985</td>\n",
       "      <td>475.200</td>\n",
       "      <td>474.985</td>\n",
       "      <td>475.100</td>\n",
       "      <td>1327148</td>\n",
       "      <td>0.120</td>\n",
       "      <td>-297244.0</td>\n",
       "    </tr>\n",
       "    <tr>\n",
       "      <th>2023-12-29 15:59:00</th>\n",
       "      <td>475.090</td>\n",
       "      <td>475.780</td>\n",
       "      <td>475.080</td>\n",
       "      <td>475.350</td>\n",
       "      <td>7508874</td>\n",
       "      <td>0.250</td>\n",
       "      <td>6181726.0</td>\n",
       "    </tr>\n",
       "  </tbody>\n",
       "</table>\n",
       "<p>7800 rows × 7 columns</p>\n",
       "</div>"
      ],
      "text/plain": [
       "                        Open     High      Low    Close   Volume  Close_diff  \\\n",
       "2023-12-01 09:30:00  453.934  453.974  453.719  453.740   416475         NaN   \n",
       "2023-12-01 09:31:00  453.744  453.864  453.714  453.715   150021      -0.025   \n",
       "2023-12-01 09:32:00  453.725  453.735  453.387  453.495   213584      -0.220   \n",
       "2023-12-01 09:33:00  453.505  453.685  453.345  453.545   567684       0.050   \n",
       "2023-12-01 09:34:00  453.540  453.675  453.465  453.635   249273       0.090   \n",
       "...                      ...      ...      ...      ...      ...         ...   \n",
       "2023-12-29 15:55:00  474.750  474.935  474.490  474.919   962457       0.169   \n",
       "2023-12-29 15:56:00  474.910  475.280  474.890  475.120   898500       0.201   \n",
       "2023-12-29 15:57:00  475.120  475.160  474.950  474.980  1624392      -0.140   \n",
       "2023-12-29 15:58:00  474.985  475.200  474.985  475.100  1327148       0.120   \n",
       "2023-12-29 15:59:00  475.090  475.780  475.080  475.350  7508874       0.250   \n",
       "\n",
       "                     change_volume  \n",
       "2023-12-01 09:30:00            NaN  \n",
       "2023-12-01 09:31:00      -266454.0  \n",
       "2023-12-01 09:32:00        63563.0  \n",
       "2023-12-01 09:33:00       354100.0  \n",
       "2023-12-01 09:34:00      -318411.0  \n",
       "...                            ...  \n",
       "2023-12-29 15:55:00      -259560.0  \n",
       "2023-12-29 15:56:00       -63957.0  \n",
       "2023-12-29 15:57:00       725892.0  \n",
       "2023-12-29 15:58:00      -297244.0  \n",
       "2023-12-29 15:59:00      6181726.0  \n",
       "\n",
       "[7800 rows x 7 columns]"
      ]
     },
     "execution_count": 25,
     "metadata": {},
     "output_type": "execute_result"
    }
   ],
   "source": [
    "# differencing in prices\n",
    "\n",
    "finance_data['Close_diff']=finance_data['Close'].diff()\n",
    "finance_data['change_volume']=finance_data['Volume'].diff()\n",
    "finance_data"
   ]
  },
  {
   "cell_type": "code",
   "execution_count": 26,
   "metadata": {},
   "outputs": [
    {
     "data": {
      "text/html": [
       "<div>\n",
       "<style scoped>\n",
       "    .dataframe tbody tr th:only-of-type {\n",
       "        vertical-align: middle;\n",
       "    }\n",
       "\n",
       "    .dataframe tbody tr th {\n",
       "        vertical-align: top;\n",
       "    }\n",
       "\n",
       "    .dataframe thead th {\n",
       "        text-align: right;\n",
       "    }\n",
       "</style>\n",
       "<table border=\"1\" class=\"dataframe\">\n",
       "  <thead>\n",
       "    <tr style=\"text-align: right;\">\n",
       "      <th></th>\n",
       "      <th>Open</th>\n",
       "      <th>High</th>\n",
       "      <th>Low</th>\n",
       "      <th>Close</th>\n",
       "      <th>Volume</th>\n",
       "      <th>Close_diff</th>\n",
       "      <th>change_volume</th>\n",
       "    </tr>\n",
       "  </thead>\n",
       "  <tbody>\n",
       "    <tr>\n",
       "      <th>2023-12-13 14:30:00</th>\n",
       "      <td>465.567</td>\n",
       "      <td>465.746</td>\n",
       "      <td>465.566</td>\n",
       "      <td>465.706</td>\n",
       "      <td>228716</td>\n",
       "      <td>0.139</td>\n",
       "      <td>50558.0</td>\n",
       "    </tr>\n",
       "    <tr>\n",
       "      <th>2023-12-13 14:31:00</th>\n",
       "      <td>465.696</td>\n",
       "      <td>465.713</td>\n",
       "      <td>465.168</td>\n",
       "      <td>465.178</td>\n",
       "      <td>375178</td>\n",
       "      <td>-0.528</td>\n",
       "      <td>146462.0</td>\n",
       "    </tr>\n",
       "    <tr>\n",
       "      <th>2023-12-13 14:32:00</th>\n",
       "      <td>465.208</td>\n",
       "      <td>465.557</td>\n",
       "      <td>465.187</td>\n",
       "      <td>465.447</td>\n",
       "      <td>194939</td>\n",
       "      <td>0.269</td>\n",
       "      <td>-180239.0</td>\n",
       "    </tr>\n",
       "    <tr>\n",
       "      <th>2023-12-13 14:33:00</th>\n",
       "      <td>465.437</td>\n",
       "      <td>465.711</td>\n",
       "      <td>465.367</td>\n",
       "      <td>465.696</td>\n",
       "      <td>166786</td>\n",
       "      <td>0.249</td>\n",
       "      <td>-28153.0</td>\n",
       "    </tr>\n",
       "    <tr>\n",
       "      <th>2023-12-13 14:34:00</th>\n",
       "      <td>465.686</td>\n",
       "      <td>466.125</td>\n",
       "      <td>465.675</td>\n",
       "      <td>466.104</td>\n",
       "      <td>361639</td>\n",
       "      <td>0.408</td>\n",
       "      <td>194853.0</td>\n",
       "    </tr>\n",
       "    <tr>\n",
       "      <th>...</th>\n",
       "      <td>...</td>\n",
       "      <td>...</td>\n",
       "      <td>...</td>\n",
       "      <td>...</td>\n",
       "      <td>...</td>\n",
       "      <td>...</td>\n",
       "      <td>...</td>\n",
       "    </tr>\n",
       "    <tr>\n",
       "      <th>2023-12-13 15:55:00</th>\n",
       "      <td>467.798</td>\n",
       "      <td>467.997</td>\n",
       "      <td>467.787</td>\n",
       "      <td>467.887</td>\n",
       "      <td>602281</td>\n",
       "      <td>0.089</td>\n",
       "      <td>106396.0</td>\n",
       "    </tr>\n",
       "    <tr>\n",
       "      <th>2023-12-13 15:56:00</th>\n",
       "      <td>467.888</td>\n",
       "      <td>468.037</td>\n",
       "      <td>467.867</td>\n",
       "      <td>468.022</td>\n",
       "      <td>1590313</td>\n",
       "      <td>0.135</td>\n",
       "      <td>988032.0</td>\n",
       "    </tr>\n",
       "    <tr>\n",
       "      <th>2023-12-13 15:57:00</th>\n",
       "      <td>468.027</td>\n",
       "      <td>468.246</td>\n",
       "      <td>468.016</td>\n",
       "      <td>468.241</td>\n",
       "      <td>722168</td>\n",
       "      <td>0.219</td>\n",
       "      <td>-868145.0</td>\n",
       "    </tr>\n",
       "    <tr>\n",
       "      <th>2023-12-13 15:58:00</th>\n",
       "      <td>468.241</td>\n",
       "      <td>468.396</td>\n",
       "      <td>468.210</td>\n",
       "      <td>468.375</td>\n",
       "      <td>1044683</td>\n",
       "      <td>0.134</td>\n",
       "      <td>322515.0</td>\n",
       "    </tr>\n",
       "    <tr>\n",
       "      <th>2023-12-13 15:59:00</th>\n",
       "      <td>468.375</td>\n",
       "      <td>468.645</td>\n",
       "      <td>468.325</td>\n",
       "      <td>468.545</td>\n",
       "      <td>2443082</td>\n",
       "      <td>0.170</td>\n",
       "      <td>1398399.0</td>\n",
       "    </tr>\n",
       "  </tbody>\n",
       "</table>\n",
       "<p>90 rows × 7 columns</p>\n",
       "</div>"
      ],
      "text/plain": [
       "                        Open     High      Low    Close   Volume  Close_diff  \\\n",
       "2023-12-13 14:30:00  465.567  465.746  465.566  465.706   228716       0.139   \n",
       "2023-12-13 14:31:00  465.696  465.713  465.168  465.178   375178      -0.528   \n",
       "2023-12-13 14:32:00  465.208  465.557  465.187  465.447   194939       0.269   \n",
       "2023-12-13 14:33:00  465.437  465.711  465.367  465.696   166786       0.249   \n",
       "2023-12-13 14:34:00  465.686  466.125  465.675  466.104   361639       0.408   \n",
       "...                      ...      ...      ...      ...      ...         ...   \n",
       "2023-12-13 15:55:00  467.798  467.997  467.787  467.887   602281       0.089   \n",
       "2023-12-13 15:56:00  467.888  468.037  467.867  468.022  1590313       0.135   \n",
       "2023-12-13 15:57:00  468.027  468.246  468.016  468.241   722168       0.219   \n",
       "2023-12-13 15:58:00  468.241  468.396  468.210  468.375  1044683       0.134   \n",
       "2023-12-13 15:59:00  468.375  468.645  468.325  468.545  2443082       0.170   \n",
       "\n",
       "                     change_volume  \n",
       "2023-12-13 14:30:00        50558.0  \n",
       "2023-12-13 14:31:00       146462.0  \n",
       "2023-12-13 14:32:00      -180239.0  \n",
       "2023-12-13 14:33:00       -28153.0  \n",
       "2023-12-13 14:34:00       194853.0  \n",
       "...                            ...  \n",
       "2023-12-13 15:55:00       106396.0  \n",
       "2023-12-13 15:56:00       988032.0  \n",
       "2023-12-13 15:57:00      -868145.0  \n",
       "2023-12-13 15:58:00       322515.0  \n",
       "2023-12-13 15:59:00      1398399.0  \n",
       "\n",
       "[90 rows x 7 columns]"
      ]
     },
     "execution_count": 26,
     "metadata": {},
     "output_type": "execute_result"
    }
   ],
   "source": [
    "# get the \n",
    "filtered_data = finance_data[(finance_data.index >= '2023-12-13 14:30:00') & (finance_data.index <= '2023-12-13 15:59:00')]\n",
    "filtered_data"
   ]
  },
  {
   "cell_type": "code",
   "execution_count": 27,
   "metadata": {},
   "outputs": [],
   "source": [
    "filtered_data=filtered_data.iloc[0:19,:]"
   ]
  },
  {
   "cell_type": "code",
   "execution_count": 28,
   "metadata": {},
   "outputs": [
    {
     "ename": "ModuleNotFoundError",
     "evalue": "No module named 'statsmodels'",
     "output_type": "error",
     "traceback": [
      "\u001b[0;31m---------------------------------------------------------------------------\u001b[0m",
      "\u001b[0;31mModuleNotFoundError\u001b[0m                       Traceback (most recent call last)",
      "Cell \u001b[0;32mIn[28], line 6\u001b[0m\n\u001b[1;32m      2\u001b[0m time_series\u001b[38;5;241m=\u001b[39mfiltered_data[\u001b[38;5;124m'\u001b[39m\u001b[38;5;124mClose\u001b[39m\u001b[38;5;124m'\u001b[39m]\n\u001b[1;32m      5\u001b[0m \u001b[38;5;28;01mimport\u001b[39;00m \u001b[38;5;21;01mmatplotlib\u001b[39;00m\u001b[38;5;21;01m.\u001b[39;00m\u001b[38;5;21;01mpyplot\u001b[39;00m \u001b[38;5;28;01mas\u001b[39;00m \u001b[38;5;21;01mplt\u001b[39;00m\n\u001b[0;32m----> 6\u001b[0m \u001b[38;5;28;01mfrom\u001b[39;00m \u001b[38;5;21;01mstatsmodels\u001b[39;00m\u001b[38;5;21;01m.\u001b[39;00m\u001b[38;5;21;01mgraphics\u001b[39;00m\u001b[38;5;21;01m.\u001b[39;00m\u001b[38;5;21;01mtsaplots\u001b[39;00m \u001b[38;5;28;01mimport\u001b[39;00m plot_acf\n\u001b[1;32m      8\u001b[0m \u001b[38;5;66;03m# Assuming `time_series` is your time series column\u001b[39;00m\n\u001b[1;32m      9\u001b[0m plot_acf(time_series, lags\u001b[38;5;241m=\u001b[39m\u001b[38;5;241m18\u001b[39m)  \u001b[38;5;66;03m# You can change the number of lags depending on your time series length\u001b[39;00m\n",
      "\u001b[0;31mModuleNotFoundError\u001b[0m: No module named 'statsmodels'"
     ]
    }
   ],
   "source": [
    "# time series \n",
    "time_series=filtered_data['Close']\n",
    "\n",
    "\n",
    "import matplotlib.pyplot as plt\n",
    "from statsmodels.graphics.tsaplots import plot_acf\n",
    "\n",
    "# Assuming `time_series` is your time series column\n",
    "plot_acf(time_series, lags=18)  # You can change the number of lags depending on your time series length\n",
    "plt.show()\n"
   ]
  },
  {
   "cell_type": "code",
   "execution_count": null,
   "metadata": {},
   "outputs": [
    {
     "data": {
      "image/png": "[encoded data removed]",
      "text/plain": [
       "<Figure size 640x480 with 4 Axes>"
      ]
     },
     "metadata": {},
     "output_type": "display_data"
    }
   ],
   "source": [
    "from statsmodels.tsa.seasonal import seasonal_decompose\n",
    "\n",
    "# Decompose the time series\n",
    "# The freq parameter is deprecated and replaced by period. You should use period that represents the number of observations per cycle\n",
    "# For example, if you have daily data and expect a weekly pattern, you might set period=7.\n",
    "result = seasonal_decompose(time_series, model='additive', period=6)\n",
    "\n",
    "# Plot the decomposed components\n",
    "result.plot()\n",
    "plt.show()"
   ]
  },
  {
   "cell_type": "markdown",
   "metadata": {},
   "source": [
    "Linear Regression (can Ignore)"
   ]
  },
  {
   "cell_type": "markdown",
   "metadata": {},
   "source": [
    "Linear Regression on Difference in Close price"
   ]
  },
  {
   "cell_type": "code",
   "execution_count": null,
   "metadata": {},
   "outputs": [
    {
     "data": {
      "text/plain": [
       "(          Coefficient\n",
       " angry        0.099712\n",
       " disgust      0.119079\n",
       " fear         0.097141\n",
       " happy        0.098927\n",
       " sad          0.099477\n",
       " surprise     0.097023\n",
       " neutral      0.099528,\n",
       " -176.98450930442397)"
      ]
     },
     "execution_count": 75,
     "metadata": {},
     "output_type": "execute_result"
    }
   ],
   "source": [
    "from sklearn.model_selection import train_test_split\n",
    "import matplotlib.pyplot as plt\n",
    "import numpy as np\n",
    "from sklearn import datasets,linear_model,metrics\n",
    "from sklearn.linear_model import LinearRegression\n",
    "\n",
    "\n",
    "\n",
    "# Now, let's perform linear regression with the dataframe's features.\n",
    "X = df_grouped_by_minute\n",
    "y = filtered_data['Close_diff'].reset_index(drop=True)\n",
    "\n",
    "# Create the model\n",
    "model = LinearRegression()\n",
    "\n",
    "# Fit the model\n",
    "model.fit(X, y)\n",
    "\n",
    "# Get the model's coefficients and intercept\n",
    "coefficients = model.coef_\n",
    "intercept = model.intercept_\n",
    "\n",
    "# Prepare a DataFrame for the coefficients\n",
    "coeff_df = pd.DataFrame(coefficients, X.columns, columns=['Coefficient'])\n",
    "\n",
    "coeff_df, intercept\n"
   ]
  },
  {
   "cell_type": "code",
   "execution_count": null,
   "metadata": {},
   "outputs": [
    {
     "name": "stderr",
     "output_type": "stream",
     "text": [
      "c:\\Users\\leyon\\anaconda3\\envs\\new_etlenv\\Lib\\site-packages\\scipy\\stats\\_stats_py.py:1806: UserWarning: kurtosistest only valid for n>=20 ... continuing anyway, n=19\n",
      "  warnings.warn(\"kurtosistest only valid for n>=20 ... continuing \"\n"
     ]
    },
    {
     "data": {
      "text/plain": [
       "(0.11870761944098984, <class 'statsmodels.iolib.table.SimpleTable'>)"
      ]
     },
     "execution_count": 76,
     "metadata": {},
     "output_type": "execute_result"
    }
   ],
   "source": [
    "from sklearn.metrics import r2_score\n",
    "from scipy import stats\n",
    "\n",
    "# We already have the model fitted and the predictions can be made using model.predict(X)\n",
    "predictions = model.predict(X)\n",
    "\n",
    "# Calculate R^2 score\n",
    "r2 = r2_score(y, predictions)\n",
    "\n",
    "# To get p-values we need to perform an OLS regression using statsmodels because sklearn does not provide p-values\n",
    "import statsmodels.api as sm\n",
    "\n",
    "# Add a constant to the model (it's required for statsmodels OLS)\n",
    "X_with_const = sm.add_constant(X)\n",
    "\n",
    "# Fit the OLS model\n",
    "ols_model = sm.OLS(y, X_with_const).fit()\n",
    "\n",
    "# Get the summary of the model to extract the p-values\n",
    "summary = ols_model.summary()\n",
    "\n",
    "r2, summary.tables[1]\n"
   ]
  },
  {
   "cell_type": "code",
   "execution_count": null,
   "metadata": {},
   "outputs": [
    {
     "data": {
      "text/html": [
       "<table class=\"simpletable\">\n",
       "<tr>\n",
       "      <td></td>        <th>coef</th>     <th>std err</th>      <th>t</th>      <th>P>|t|</th>  <th>[0.025</th>    <th>0.975]</th>  \n",
       "</tr>\n",
       "<tr>\n",
       "  <th>const</th>    <td> -176.9845</td> <td>  285.306</td> <td>   -0.620</td> <td> 0.548</td> <td> -804.939</td> <td>  450.970</td>\n",
       "</tr>\n",
       "<tr>\n",
       "  <th>angry</th>    <td>    0.0997</td> <td>    0.160</td> <td>    0.623</td> <td> 0.546</td> <td>   -0.253</td> <td>    0.452</td>\n",
       "</tr>\n",
       "<tr>\n",
       "  <th>disgust</th>  <td>    0.1191</td> <td>    0.186</td> <td>    0.640</td> <td> 0.535</td> <td>   -0.291</td> <td>    0.529</td>\n",
       "</tr>\n",
       "<tr>\n",
       "  <th>fear</th>     <td>    0.0971</td> <td>    0.159</td> <td>    0.611</td> <td> 0.554</td> <td>   -0.253</td> <td>    0.447</td>\n",
       "</tr>\n",
       "<tr>\n",
       "  <th>happy</th>    <td>    0.0989</td> <td>    0.160</td> <td>    0.618</td> <td> 0.549</td> <td>   -0.254</td> <td>    0.452</td>\n",
       "</tr>\n",
       "<tr>\n",
       "  <th>sad</th>      <td>    0.0995</td> <td>    0.161</td> <td>    0.619</td> <td> 0.549</td> <td>   -0.254</td> <td>    0.453</td>\n",
       "</tr>\n",
       "<tr>\n",
       "  <th>surprise</th> <td>    0.0970</td> <td>    0.160</td> <td>    0.607</td> <td> 0.556</td> <td>   -0.255</td> <td>    0.449</td>\n",
       "</tr>\n",
       "<tr>\n",
       "  <th>neutral</th>  <td>    0.0995</td> <td>    0.160</td> <td>    0.622</td> <td> 0.547</td> <td>   -0.253</td> <td>    0.452</td>\n",
       "</tr>\n",
       "</table>"
      ],
      "text/latex": [
       "\\begin{center}\n",
       "\\begin{tabular}{lcccccc}\n",
       "\\toprule\n",
       "                  & \\textbf{coef} & \\textbf{std err} & \\textbf{t} & \\textbf{P$> |$t$|$} & \\textbf{[0.025} & \\textbf{0.975]}  \\\\\n",
       "\\midrule\n",
       "\\textbf{const}    &    -176.9845  &      285.306     &    -0.620  &         0.548        &     -804.939    &      450.970     \\\\\n",
       "\\textbf{angry}    &       0.0997  &        0.160     &     0.623  &         0.546        &       -0.253    &        0.452     \\\\\n",
       "\\textbf{disgust}  &       0.1191  &        0.186     &     0.640  &         0.535        &       -0.291    &        0.529     \\\\\n",
       "\\textbf{fear}     &       0.0971  &        0.159     &     0.611  &         0.554        &       -0.253    &        0.447     \\\\\n",
       "\\textbf{happy}    &       0.0989  &        0.160     &     0.618  &         0.549        &       -0.254    &        0.452     \\\\\n",
       "\\textbf{sad}      &       0.0995  &        0.161     &     0.619  &         0.549        &       -0.254    &        0.453     \\\\\n",
       "\\textbf{surprise} &       0.0970  &        0.160     &     0.607  &         0.556        &       -0.255    &        0.449     \\\\\n",
       "\\textbf{neutral}  &       0.0995  &        0.160     &     0.622  &         0.547        &       -0.253    &        0.452     \\\\\n",
       "\\bottomrule\n",
       "\\end{tabular}\n",
       "\\end{center}"
      ],
      "text/plain": [
       "<class 'statsmodels.iolib.table.SimpleTable'>"
      ]
     },
     "execution_count": 77,
     "metadata": {},
     "output_type": "execute_result"
    }
   ],
   "source": [
    "summary.tables[1]"
   ]
  },
  {
   "cell_type": "markdown",
   "metadata": {},
   "source": [
    "Linear Regression on Closed Price "
   ]
  },
  {
   "cell_type": "code",
   "execution_count": null,
   "metadata": {},
   "outputs": [
    {
     "data": {
      "text/plain": [
       "(          Coefficient\n",
       " angry       -0.268861\n",
       " disgust     -0.257876\n",
       " fear        -0.257063\n",
       " happy       -0.271307\n",
       " sad         -0.281766\n",
       " surprise    -0.261972\n",
       " neutral     -0.268455,\n",
       " 945.5952078390792)"
      ]
     },
     "execution_count": 78,
     "metadata": {},
     "output_type": "execute_result"
    }
   ],
   "source": [
    "from sklearn.model_selection import train_test_split\n",
    "import matplotlib.pyplot as plt\n",
    "import numpy as np\n",
    "from sklearn import datasets,linear_model,metrics\n",
    "from sklearn.linear_model import LinearRegression\n",
    "\n",
    "\n",
    "\n",
    "# Now, let's perform linear regression with the dataframe's features.\n",
    "X = df_grouped_by_minute\n",
    "y = filtered_data['Close'].reset_index(drop=True)\n",
    "\n",
    "# Create the model\n",
    "model = LinearRegression()\n",
    "\n",
    "# Fit the model\n",
    "model.fit(X, y)\n",
    "\n",
    "# Get the model's coefficients and intercept\n",
    "coefficients = model.coef_\n",
    "intercept = model.intercept_\n",
    "\n",
    "# Prepare a DataFrame for the coefficients\n",
    "coeff_df = pd.DataFrame(coefficients, X.columns, columns=['Coefficient'])\n",
    "\n",
    "coeff_df, intercept\n"
   ]
  },
  {
   "cell_type": "code",
   "execution_count": null,
   "metadata": {},
   "outputs": [
    {
     "name": "stderr",
     "output_type": "stream",
     "text": [
      "c:\\Users\\leyon\\anaconda3\\envs\\new_etlenv\\Lib\\site-packages\\scipy\\stats\\_stats_py.py:1806: UserWarning: kurtosistest only valid for n>=20 ... continuing anyway, n=19\n",
      "  warnings.warn(\"kurtosistest only valid for n>=20 ... continuing \"\n"
     ]
    },
    {
     "data": {
      "text/plain": [
       "(0.5389866766221123, <class 'statsmodels.iolib.table.SimpleTable'>)"
      ]
     },
     "execution_count": 79,
     "metadata": {},
     "output_type": "execute_result"
    }
   ],
   "source": [
    "from sklearn.metrics import r2_score\n",
    "from scipy import stats\n",
    "\n",
    "# We already have the model fitted and the predictions can be made using model.predict(X)\n",
    "predictions = model.predict(X)\n",
    "\n",
    "# Calculate R^2 score\n",
    "r2 = r2_score(y, predictions)\n",
    "\n",
    "# To get p-values we need to perform an OLS regression using statsmodels because sklearn does not provide p-values\n",
    "import statsmodels.api as sm\n",
    "\n",
    "# Add a constant to the model (it's required for statsmodels OLS)\n",
    "X_with_const = sm.add_constant(X)\n",
    "\n",
    "# Fit the OLS model\n",
    "ols_model = sm.OLS(y, X_with_const).fit()\n",
    "\n",
    "# Get the summary of the model to extract the p-values\n",
    "summary = ols_model.summary()\n",
    "\n",
    "r2, summary.tables[1]\n"
   ]
  },
  {
   "cell_type": "code",
   "execution_count": null,
   "metadata": {},
   "outputs": [
    {
     "data": {
      "text/html": [
       "<table class=\"simpletable\">\n",
       "<tr>\n",
       "      <td></td>        <th>coef</th>     <th>std err</th>      <th>t</th>      <th>P>|t|</th>  <th>[0.025</th>    <th>0.975]</th>  \n",
       "</tr>\n",
       "<tr>\n",
       "  <th>const</th>    <td>  945.5952</td> <td>  668.890</td> <td>    1.414</td> <td> 0.185</td> <td> -526.622</td> <td> 2417.813</td>\n",
       "</tr>\n",
       "<tr>\n",
       "  <th>angry</th>    <td>   -0.2689</td> <td>    0.375</td> <td>   -0.716</td> <td> 0.489</td> <td>   -1.095</td> <td>    0.557</td>\n",
       "</tr>\n",
       "<tr>\n",
       "  <th>disgust</th>  <td>   -0.2579</td> <td>    0.436</td> <td>   -0.591</td> <td> 0.566</td> <td>   -1.218</td> <td>    0.702</td>\n",
       "</tr>\n",
       "<tr>\n",
       "  <th>fear</th>     <td>   -0.2571</td> <td>    0.373</td> <td>   -0.690</td> <td> 0.505</td> <td>   -1.077</td> <td>    0.563</td>\n",
       "</tr>\n",
       "<tr>\n",
       "  <th>happy</th>    <td>   -0.2713</td> <td>    0.376</td> <td>   -0.722</td> <td> 0.485</td> <td>   -1.098</td> <td>    0.555</td>\n",
       "</tr>\n",
       "<tr>\n",
       "  <th>sad</th>      <td>   -0.2818</td> <td>    0.377</td> <td>   -0.748</td> <td> 0.470</td> <td>   -1.111</td> <td>    0.547</td>\n",
       "</tr>\n",
       "<tr>\n",
       "  <th>surprise</th> <td>   -0.2620</td> <td>    0.375</td> <td>   -0.699</td> <td> 0.499</td> <td>   -1.087</td> <td>    0.563</td>\n",
       "</tr>\n",
       "<tr>\n",
       "  <th>neutral</th>  <td>   -0.2685</td> <td>    0.375</td> <td>   -0.715</td> <td> 0.489</td> <td>   -1.094</td> <td>    0.557</td>\n",
       "</tr>\n",
       "</table>"
      ],
      "text/latex": [
       "\\begin{center}\n",
       "\\begin{tabular}{lcccccc}\n",
       "\\toprule\n",
       "                  & \\textbf{coef} & \\textbf{std err} & \\textbf{t} & \\textbf{P$> |$t$|$} & \\textbf{[0.025} & \\textbf{0.975]}  \\\\\n",
       "\\midrule\n",
       "\\textbf{const}    &     945.5952  &      668.890     &     1.414  &         0.185        &     -526.622    &     2417.813     \\\\\n",
       "\\textbf{angry}    &      -0.2689  &        0.375     &    -0.716  &         0.489        &       -1.095    &        0.557     \\\\\n",
       "\\textbf{disgust}  &      -0.2579  &        0.436     &    -0.591  &         0.566        &       -1.218    &        0.702     \\\\\n",
       "\\textbf{fear}     &      -0.2571  &        0.373     &    -0.690  &         0.505        &       -1.077    &        0.563     \\\\\n",
       "\\textbf{happy}    &      -0.2713  &        0.376     &    -0.722  &         0.485        &       -1.098    &        0.555     \\\\\n",
       "\\textbf{sad}      &      -0.2818  &        0.377     &    -0.748  &         0.470        &       -1.111    &        0.547     \\\\\n",
       "\\textbf{surprise} &      -0.2620  &        0.375     &    -0.699  &         0.499        &       -1.087    &        0.563     \\\\\n",
       "\\textbf{neutral}  &      -0.2685  &        0.375     &    -0.715  &         0.489        &       -1.094    &        0.557     \\\\\n",
       "\\bottomrule\n",
       "\\end{tabular}\n",
       "\\end{center}"
      ],
      "text/plain": [
       "<class 'statsmodels.iolib.table.SimpleTable'>"
      ]
     },
     "execution_count": 80,
     "metadata": {},
     "output_type": "execute_result"
    }
   ],
   "source": [
    "summary.tables[1]"
   ]
  },
  {
   "cell_type": "markdown",
   "metadata": {},
   "source": [
    "Linear Regression on Volume as y"
   ]
  },
  {
   "cell_type": "code",
   "execution_count": null,
   "metadata": {},
   "outputs": [
    {
     "data": {
      "text/plain": [
       "(           Coefficient\n",
       " angry     28789.222814\n",
       " disgust  -70681.817104\n",
       " fear      32444.884493\n",
       " happy     29409.115214\n",
       " sad       26693.797158\n",
       " surprise  31144.694940\n",
       " neutral   29259.756563,\n",
       " -51675763.85924817)"
      ]
     },
     "execution_count": 81,
     "metadata": {},
     "output_type": "execute_result"
    }
   ],
   "source": [
    "from sklearn.model_selection import train_test_split\n",
    "import matplotlib.pyplot as plt\n",
    "import numpy as np\n",
    "from sklearn import datasets,linear_model,metrics\n",
    "from sklearn.linear_model import LinearRegression\n",
    "\n",
    "\n",
    "\n",
    "# Now, let's perform linear regression with the dataframe's features.\n",
    "X = df_grouped_by_minute\n",
    "y = filtered_data['Volume'].reset_index(drop=True)\n",
    "\n",
    "# Create the model\n",
    "model = LinearRegression()\n",
    "\n",
    "# Fit the model\n",
    "model.fit(X, y)\n",
    "\n",
    "# Get the model's coefficients and intercept\n",
    "coefficients = model.coef_\n",
    "intercept = model.intercept_\n",
    "\n",
    "# Prepare a DataFrame for the coefficients\n",
    "coeff_df = pd.DataFrame(coefficients, X.columns, columns=['Coefficient'])\n",
    "\n",
    "coeff_df, intercept\n"
   ]
  },
  {
   "cell_type": "code",
   "execution_count": null,
   "metadata": {},
   "outputs": [
    {
     "name": "stderr",
     "output_type": "stream",
     "text": [
      "c:\\Users\\leyon\\anaconda3\\envs\\new_etlenv\\Lib\\site-packages\\scipy\\stats\\_stats_py.py:1806: UserWarning: kurtosistest only valid for n>=20 ... continuing anyway, n=19\n",
      "  warnings.warn(\"kurtosistest only valid for n>=20 ... continuing \"\n"
     ]
    },
    {
     "data": {
      "text/plain": [
       "(0.30911036145575965, <class 'statsmodels.iolib.table.SimpleTable'>)"
      ]
     },
     "execution_count": 82,
     "metadata": {},
     "output_type": "execute_result"
    }
   ],
   "source": [
    "from sklearn.metrics import r2_score\n",
    "from scipy import stats\n",
    "\n",
    "# We already have the model fitted and the predictions can be made using model.predict(X)\n",
    "predictions = model.predict(X)\n",
    "\n",
    "# Calculate R^2 score\n",
    "r2 = r2_score(y, predictions)\n",
    "\n",
    "# To get p-values we need to perform an OLS regression using statsmodels because sklearn does not provide p-values\n",
    "import statsmodels.api as sm\n",
    "\n",
    "# Add a constant to the model (it's required for statsmodels OLS)\n",
    "X_with_const = sm.add_constant(X)\n",
    "\n",
    "# Fit the OLS model\n",
    "ols_model = sm.OLS(y, X_with_const).fit()\n",
    "\n",
    "# Get the summary of the model to extract the p-values\n",
    "summary = ols_model.summary()\n",
    "\n",
    "r2, summary.tables[1]\n"
   ]
  },
  {
   "cell_type": "code",
   "execution_count": null,
   "metadata": {},
   "outputs": [
    {
     "data": {
      "text/html": [
       "<table class=\"simpletable\">\n",
       "<tr>\n",
       "      <td></td>        <th>coef</th>     <th>std err</th>      <th>t</th>      <th>P>|t|</th>  <th>[0.025</th>    <th>0.975]</th>  \n",
       "</tr>\n",
       "<tr>\n",
       "  <th>const</th>    <td>-5.168e+07</td> <td> 1.95e+08</td> <td>   -0.265</td> <td> 0.796</td> <td>-4.81e+08</td> <td> 3.78e+08</td>\n",
       "</tr>\n",
       "<tr>\n",
       "  <th>angry</th>    <td> 2.879e+04</td> <td> 1.09e+05</td> <td>    0.263</td> <td> 0.797</td> <td>-2.12e+05</td> <td>  2.7e+05</td>\n",
       "</tr>\n",
       "<tr>\n",
       "  <th>disgust</th>  <td>-7.068e+04</td> <td> 1.27e+05</td> <td>   -0.556</td> <td> 0.590</td> <td>-3.51e+05</td> <td> 2.09e+05</td>\n",
       "</tr>\n",
       "<tr>\n",
       "  <th>fear</th>     <td> 3.244e+04</td> <td> 1.09e+05</td> <td>    0.299</td> <td> 0.771</td> <td>-2.07e+05</td> <td> 2.72e+05</td>\n",
       "</tr>\n",
       "<tr>\n",
       "  <th>happy</th>    <td> 2.941e+04</td> <td> 1.09e+05</td> <td>    0.269</td> <td> 0.793</td> <td>-2.12e+05</td> <td>  2.7e+05</td>\n",
       "</tr>\n",
       "<tr>\n",
       "  <th>sad</th>      <td> 2.669e+04</td> <td>  1.1e+05</td> <td>    0.243</td> <td> 0.812</td> <td>-2.15e+05</td> <td> 2.68e+05</td>\n",
       "</tr>\n",
       "<tr>\n",
       "  <th>surprise</th> <td> 3.114e+04</td> <td> 1.09e+05</td> <td>    0.285</td> <td> 0.781</td> <td>-2.09e+05</td> <td> 2.72e+05</td>\n",
       "</tr>\n",
       "<tr>\n",
       "  <th>neutral</th>  <td> 2.926e+04</td> <td> 1.09e+05</td> <td>    0.267</td> <td> 0.794</td> <td>-2.12e+05</td> <td>  2.7e+05</td>\n",
       "</tr>\n",
       "</table>"
      ],
      "text/latex": [
       "\\begin{center}\n",
       "\\begin{tabular}{lcccccc}\n",
       "\\toprule\n",
       "                  & \\textbf{coef} & \\textbf{std err} & \\textbf{t} & \\textbf{P$> |$t$|$} & \\textbf{[0.025} & \\textbf{0.975]}  \\\\\n",
       "\\midrule\n",
       "\\textbf{const}    &   -5.168e+07  &     1.95e+08     &    -0.265  &         0.796        &    -4.81e+08    &     3.78e+08     \\\\\n",
       "\\textbf{angry}    &    2.879e+04  &     1.09e+05     &     0.263  &         0.797        &    -2.12e+05    &      2.7e+05     \\\\\n",
       "\\textbf{disgust}  &   -7.068e+04  &     1.27e+05     &    -0.556  &         0.590        &    -3.51e+05    &     2.09e+05     \\\\\n",
       "\\textbf{fear}     &    3.244e+04  &     1.09e+05     &     0.299  &         0.771        &    -2.07e+05    &     2.72e+05     \\\\\n",
       "\\textbf{happy}    &    2.941e+04  &     1.09e+05     &     0.269  &         0.793        &    -2.12e+05    &      2.7e+05     \\\\\n",
       "\\textbf{sad}      &    2.669e+04  &      1.1e+05     &     0.243  &         0.812        &    -2.15e+05    &     2.68e+05     \\\\\n",
       "\\textbf{surprise} &    3.114e+04  &     1.09e+05     &     0.285  &         0.781        &    -2.09e+05    &     2.72e+05     \\\\\n",
       "\\textbf{neutral}  &    2.926e+04  &     1.09e+05     &     0.267  &         0.794        &    -2.12e+05    &      2.7e+05     \\\\\n",
       "\\bottomrule\n",
       "\\end{tabular}\n",
       "\\end{center}"
      ],
      "text/plain": [
       "<class 'statsmodels.iolib.table.SimpleTable'>"
      ]
     },
     "execution_count": 83,
     "metadata": {},
     "output_type": "execute_result"
    }
   ],
   "source": [
    "summary.tables[1]"
   ]
  },
  {
   "cell_type": "markdown",
   "metadata": {},
   "source": [
    "Linear Regression on Changes in Price"
   ]
  },
  {
   "cell_type": "code",
   "execution_count": null,
   "metadata": {},
   "outputs": [
    {
     "data": {
      "text/plain": [
       "(           Coefficient\n",
       " angry     12433.037826\n",
       " disgust  -19309.153641\n",
       " fear      10789.006540\n",
       " happy     11514.547436\n",
       " sad       13481.713847\n",
       " surprise  14581.690709\n",
       " neutral   12239.850861,\n",
       " -21858149.860110197)"
      ]
     },
     "execution_count": 85,
     "metadata": {},
     "output_type": "execute_result"
    }
   ],
   "source": [
    "from sklearn.model_selection import train_test_split\n",
    "import matplotlib.pyplot as plt\n",
    "import numpy as np\n",
    "from sklearn import datasets,linear_model,metrics\n",
    "from sklearn.linear_model import LinearRegression\n",
    "\n",
    "\n",
    "\n",
    "# Now, let's perform linear regression with the dataframe's features.\n",
    "X = df_grouped_by_minute\n",
    "y = filtered_data['change_volume'].reset_index(drop=True)\n",
    "\n",
    "# Create the model\n",
    "model = LinearRegression()\n",
    "\n",
    "# Fit the model\n",
    "model.fit(X, y)\n",
    "\n",
    "# Get the model's coefficients and intercept\n",
    "coefficients = model.coef_\n",
    "intercept = model.intercept_\n",
    "\n",
    "# Prepare a DataFrame for the coefficients\n",
    "coeff_df = pd.DataFrame(coefficients, X.columns, columns=['Coefficient'])\n",
    "\n",
    "coeff_df, intercept\n"
   ]
  },
  {
   "cell_type": "code",
   "execution_count": null,
   "metadata": {},
   "outputs": [
    {
     "name": "stderr",
     "output_type": "stream",
     "text": [
      "c:\\Users\\leyon\\anaconda3\\envs\\new_etlenv\\Lib\\site-packages\\scipy\\stats\\_stats_py.py:1806: UserWarning: kurtosistest only valid for n>=20 ... continuing anyway, n=19\n",
      "  warnings.warn(\"kurtosistest only valid for n>=20 ... continuing \"\n"
     ]
    },
    {
     "data": {
      "text/plain": [
       "(0.2365226046858937, <class 'statsmodels.iolib.table.SimpleTable'>)"
      ]
     },
     "execution_count": 86,
     "metadata": {},
     "output_type": "execute_result"
    }
   ],
   "source": [
    "from sklearn.metrics import r2_score\n",
    "from scipy import stats\n",
    "\n",
    "# We already have the model fitted and the predictions can be made using model.predict(X)\n",
    "predictions = model.predict(X)\n",
    "\n",
    "# Calculate R^2 score\n",
    "r2 = r2_score(y, predictions)\n",
    "\n",
    "# To get p-values we need to perform an OLS regression using statsmodels because sklearn does not provide p-values\n",
    "import statsmodels.api as sm\n",
    "\n",
    "# Add a constant to the model (it's required for statsmodels OLS)\n",
    "X_with_const = sm.add_constant(X)\n",
    "\n",
    "# Fit the OLS model\n",
    "ols_model = sm.OLS(y, X_with_const).fit()\n",
    "\n",
    "# Get the summary of the model to extract the p-values\n",
    "summary = ols_model.summary()\n",
    "\n",
    "r2, summary.tables[1]\n"
   ]
  },
  {
   "cell_type": "code",
   "execution_count": null,
   "metadata": {},
   "outputs": [
    {
     "data": {
      "text/html": [
       "<table class=\"simpletable\">\n",
       "<tr>\n",
       "      <td></td>        <th>coef</th>     <th>std err</th>      <th>t</th>      <th>P>|t|</th>  <th>[0.025</th>    <th>0.975]</th>  \n",
       "</tr>\n",
       "<tr>\n",
       "  <th>const</th>    <td>-2.186e+07</td> <td> 1.85e+08</td> <td>   -0.118</td> <td> 0.908</td> <td> -4.3e+08</td> <td> 3.86e+08</td>\n",
       "</tr>\n",
       "<tr>\n",
       "  <th>angry</th>    <td> 1.243e+04</td> <td> 1.04e+05</td> <td>    0.119</td> <td> 0.907</td> <td>-2.17e+05</td> <td> 2.41e+05</td>\n",
       "</tr>\n",
       "<tr>\n",
       "  <th>disgust</th>  <td>-1.931e+04</td> <td> 1.21e+05</td> <td>   -0.160</td> <td> 0.876</td> <td>-2.86e+05</td> <td> 2.47e+05</td>\n",
       "</tr>\n",
       "<tr>\n",
       "  <th>fear</th>     <td> 1.079e+04</td> <td> 1.03e+05</td> <td>    0.104</td> <td> 0.919</td> <td>-2.17e+05</td> <td> 2.38e+05</td>\n",
       "</tr>\n",
       "<tr>\n",
       "  <th>happy</th>    <td> 1.151e+04</td> <td> 1.04e+05</td> <td>    0.111</td> <td> 0.914</td> <td>-2.18e+05</td> <td> 2.41e+05</td>\n",
       "</tr>\n",
       "<tr>\n",
       "  <th>sad</th>      <td> 1.348e+04</td> <td> 1.04e+05</td> <td>    0.129</td> <td> 0.900</td> <td>-2.16e+05</td> <td> 2.43e+05</td>\n",
       "</tr>\n",
       "<tr>\n",
       "  <th>surprise</th> <td> 1.458e+04</td> <td> 1.04e+05</td> <td>    0.140</td> <td> 0.891</td> <td>-2.14e+05</td> <td> 2.43e+05</td>\n",
       "</tr>\n",
       "<tr>\n",
       "  <th>neutral</th>  <td> 1.224e+04</td> <td> 1.04e+05</td> <td>    0.118</td> <td> 0.908</td> <td>-2.17e+05</td> <td> 2.41e+05</td>\n",
       "</tr>\n",
       "</table>"
      ],
      "text/latex": [
       "\\begin{center}\n",
       "\\begin{tabular}{lcccccc}\n",
       "\\toprule\n",
       "                  & \\textbf{coef} & \\textbf{std err} & \\textbf{t} & \\textbf{P$> |$t$|$} & \\textbf{[0.025} & \\textbf{0.975]}  \\\\\n",
       "\\midrule\n",
       "\\textbf{const}    &   -2.186e+07  &     1.85e+08     &    -0.118  &         0.908        &     -4.3e+08    &     3.86e+08     \\\\\n",
       "\\textbf{angry}    &    1.243e+04  &     1.04e+05     &     0.119  &         0.907        &    -2.17e+05    &     2.41e+05     \\\\\n",
       "\\textbf{disgust}  &   -1.931e+04  &     1.21e+05     &    -0.160  &         0.876        &    -2.86e+05    &     2.47e+05     \\\\\n",
       "\\textbf{fear}     &    1.079e+04  &     1.03e+05     &     0.104  &         0.919        &    -2.17e+05    &     2.38e+05     \\\\\n",
       "\\textbf{happy}    &    1.151e+04  &     1.04e+05     &     0.111  &         0.914        &    -2.18e+05    &     2.41e+05     \\\\\n",
       "\\textbf{sad}      &    1.348e+04  &     1.04e+05     &     0.129  &         0.900        &    -2.16e+05    &     2.43e+05     \\\\\n",
       "\\textbf{surprise} &    1.458e+04  &     1.04e+05     &     0.140  &         0.891        &    -2.14e+05    &     2.43e+05     \\\\\n",
       "\\textbf{neutral}  &    1.224e+04  &     1.04e+05     &     0.118  &         0.908        &    -2.17e+05    &     2.41e+05     \\\\\n",
       "\\bottomrule\n",
       "\\end{tabular}\n",
       "\\end{center}"
      ],
      "text/plain": [
       "<class 'statsmodels.iolib.table.SimpleTable'>"
      ]
     },
     "execution_count": 87,
     "metadata": {},
     "output_type": "execute_result"
    }
   ],
   "source": [
    "summary.tables[1]"
   ]
  },
  {
   "cell_type": "code",
   "execution_count": null,
   "metadata": {},
   "outputs": [],
   "source": []
  }
 ],
 "metadata": {
  "kernelspec": {
   "display_name": "new_etlenv",
   "language": "python",
   "name": "python3"
  },
  "language_info": {
   "codemirror_mode": {
    "name": "ipython",
    "version": 3
   },
   "file_extension": ".py",
   "mimetype": "text/x-python",
   "name": "python",
   "nbconvert_exporter": "python",
   "pygments_lexer": "ipython3",
   "version": "3.9.18"
  }
 },
 "nbformat": 4,
 "nbformat_minor": 2
}
